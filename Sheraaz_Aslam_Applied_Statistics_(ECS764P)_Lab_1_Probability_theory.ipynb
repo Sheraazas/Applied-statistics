{
  "cells": [
    {
      "cell_type": "code",
      "execution_count": null,
      "id": "e5a28aa9",
      "metadata": {
        "id": "e5a28aa9",
        "outputId": "dc4d4158-43ac-4688-ad4c-a3a2fd87c71c"
      },
      "outputs": [
        {
          "name": "stdout",
          "output_type": "stream",
          "text": [
            "Counting Measure Result: 6\n"
          ]
        }
      ],
      "source": [
        "#Task 1: Implement the counting measure in Python.\n",
        "\n",
        "\n",
        "def counting_measure(set1, set2):\n",
        "    # Check if the input is of type set\n",
        "    if not (isinstance(set1, set) and isinstance(set2, set)):\n",
        "        raise ValueError(\"Input must be sets\")\n",
        "\n",
        "    return len(set1.union(set2))  # Count the elements in the union of the sets\n",
        "\n",
        "# Test additivity on disjoint sets\n",
        "set_a = {\"a\", \"b\", \"c\"}\n",
        "set_b = {\"d\", \"e\", \"f\"}\n",
        "\n",
        "try:\n",
        "    result = counting_measure(set_a, set_b)\n",
        "    print(\"Counting Measure Result:\", result)\n",
        "except ValueError as e:\n",
        "    print(\"Error:\", e)\n"
      ]
    },
    {
      "cell_type": "code",
      "execution_count": null,
      "id": "d018295b",
      "metadata": {
        "id": "d018295b",
        "outputId": "4abc9d7a-3368-4220-8c67-211d87d12f11"
      },
      "outputs": [
        {
          "name": "stdout",
          "output_type": "stream",
          "text": [
            "Length of Interval [1, 3.5]: 2.5\n"
          ]
        }
      ],
      "source": [
        "#Task 2: Create a Python class for intervals and implement the length measure.\n",
        "\n",
        "\n",
        "class Interval:\n",
        "\n",
        "    def __init__(self, start, end):\n",
        "        # Check if the inputs are of type int or float\n",
        "        if not (isinstance(start, (int, float)) and isinstance(end, (int, float))):\n",
        "            raise ValueError(\"Interval boundaries must be numeric (int or float)\")\n",
        "\n",
        "        self.start = start\n",
        "        self.end = end\n",
        "\n",
        "    def length(self):\n",
        "        return self.end - self.start\n",
        "\n",
        "# Test the length measure on the interval [1, 3.5]\n",
        "try:\n",
        "    interval = Interval(1, 3.5)\n",
        "    length = interval.length()\n",
        "    print(\"Length of Interval [1, 3.5]:\", length)\n",
        "except ValueError as e:\n",
        "    print(\"Error:\", e)\n",
        "\n",
        ""
      ]
    },
    {
      "cell_type": "code",
      "execution_count": null,
      "id": "6622a7e0",
      "metadata": {
        "id": "6622a7e0",
        "outputId": "bd22f4b6-02da-4d33-cd34-338c6381f7c3"
      },
      "outputs": [
        {
          "name": "stdout",
          "output_type": "stream",
          "text": [
            "Probability Measure [0, 1]: 0.8646647167633873\n",
            "Probability Measure [1, 1]: 0.0\n",
            "Probability Measure [1, 10]: 0.13533528117545912\n",
            "Probability Measure [0, ∞): 1.0\n"
          ]
        },
        {
          "data": {
            "image/png": "[encoded data removed]",
            "text/plain": [
              "<Figure size 640x480 with 1 Axes>"
            ]
          },
          "metadata": {},
          "output_type": "display_data"
        }
      ],
      "source": [
        "#Task 3 Define a function to compute the probability mass under Exp(2) for intervals\n",
        "\n",
        "\n",
        "\n",
        "import scipy.stats as stats\n",
        "import matplotlib.pyplot as plt\n",
        "import numpy as np\n",
        "\n",
        "# Define a function to calculate the probability mass under Exp(2)\n",
        "def expon_measure(interval):\n",
        "    # Check if the input is of type Interval\n",
        "    if not isinstance(interval, Interval):\n",
        "        raise ValueError(\"Input must be an Interval\")\n",
        "\n",
        "    # Define the exponential distribution Exp(2) with scale=1/2 (λ=2)\n",
        "    exp_distribution = stats.expon(scale=1/2)\n",
        "\n",
        "    # Calculate the probability mass using the cdf method\n",
        "    probability_mass = exp_distribution.cdf(interval.end) - exp_distribution.cdf(interval.start)\n",
        "    return probability_mass\n",
        "\n",
        "# Define intervals\n",
        "interval_a = Interval(0, 1)\n",
        "interval_b = Interval(1, 1)\n",
        "interval_c = Interval(1, 10)\n",
        "interval_d = Interval(0, float('inf'))\n",
        "\n",
        "# Test the function on different intervals\n",
        "print(\"Probability Measure [0, 1]:\", expon_measure(interval_a))\n",
        "print(\"Probability Measure [1, 1]:\", expon_measure(interval_b))\n",
        "print(\"Probability Measure [1, 10]:\", expon_measure(interval_c))\n",
        "print(\"Probability Measure [0, ∞):\", expon_measure(interval_d))\n",
        "\n",
        "# Plot the PDF of Exp(2)\n",
        "x = np.linspace(0, 10, 100)\n",
        "pdf = stats.expon.pdf(x, scale=1/2)\n",
        "plt.plot(x, pdf)\n",
        "plt.title(\"PDF of Exp(2) (λ = 2)\")\n",
        "plt.xlabel(\"x\")\n",
        "plt.ylabel(\"PDF\")\n",
        "plt.show()\n",
        "\n",
        "#This code calculates the probability measure for the specified intervals and plots the PDF of Exp(2).\n",
        "#The results should align with the properties of the exponential distribution with a rate parameter (λ) of 2.\n"
      ]
    },
    {
      "cell_type": "code",
      "execution_count": null,
      "id": "e08a601d",
      "metadata": {
        "id": "e08a601d",
        "outputId": "f70fbb70-0465-4aab-ae66-f76b84e77d08"
      },
      "outputs": [
        {
          "name": "stdout",
          "output_type": "stream",
          "text": [
            "Integral ∫[0, 1] expon_pdf(x) dx: 0.8646647167633872\n",
            "Integral ∫[1, 1] expon_pdf(x) dx: 0.0\n",
            "Integral ∫[1, 10] expon_pdf(x) dx: 0.13533528117545912\n",
            "Integral ∫[0, ∞) expon_pdf(x) dx: 1.0\n"
          ]
        }
      ],
      "source": [
        "#Task 4 Define a function to compute the pdf of the exponential distribution Exp(2)\n",
        "\n",
        "\n",
        "\n",
        "\n",
        "from scipy.integrate import quad\n",
        "\n",
        "# Define a function to calculate the PDF of Exp(2) at a given x\n",
        "def expon_pdf(x):\n",
        "    # Define the exponential distribution Exp(2) with scale=1/2 (λ=2)\n",
        "    exp_distribution = stats.expon(scale=1/2)\n",
        "    return exp_distribution.pdf(x)\n",
        "\n",
        "# Compute the integrals\n",
        "integral_a, _ = quad(expon_pdf, 0, 1)\n",
        "integral_b, _ = quad(expon_pdf, 1, 1)\n",
        "integral_c, _ = quad(expon_pdf, 1, 10)\n",
        "integral_d, _ = quad(expon_pdf, 0, np.inf)\n",
        "\n",
        "print(\"Integral ∫[0, 1] expon_pdf(x) dx:\", integral_a)\n",
        "print(\"Integral ∫[1, 1] expon_pdf(x) dx:\", integral_b)\n",
        "print(\"Integral ∫[1, 10] expon_pdf(x) dx:\", integral_c)\n",
        "print(\"Integral ∫[0, ∞) expon_pdf(x) dx:\", integral_d)\n",
        "\n",
        "\n",
        "#If we compare the results of these integrals with the probability measures calculated in Task 3:\n",
        "\n",
        "#-Integral ∫[0, 1] expon_pdf(x) dx should match the probability measure of [0, 1] from Task 3.\n",
        "#-Integral ∫[1, 1] expon_pdf(x) dx should match the probability measure of [1, 1] from Task 3.\n",
        "#-Integral ∫[1, 10] expon_pdf(x) dx should match the probability measure of [1, 10] from Task 3.\n",
        "#-Integral ∫[0, ∞) expon_pdf(x) dx should match the probability measure of [0, ∞) from Task 3.\n",
        "\n",
        "#The results should be consistent since the integrals of the PDF over the specified intervals\n",
        "#are equivalent to calculating the probability measures under the exponential distribution.\n",
        "#These integrals should provide the same values as the probability measures calculated\n",
        "#using the CDF in Task 3."
      ]
    },
    {
      "cell_type": "code",
      "execution_count": null,
      "id": "dab5c9b2",
      "metadata": {
        "id": "dab5c9b2"
      },
      "outputs": [],
      "source": []
    }
  ],
  "metadata": {
    "kernelspec": {
      "display_name": "Python 3 (ipykernel)",
      "language": "python",
      "name": "python3"
    },
    "language_info": {
      "codemirror_mode": {
        "name": "ipython",
        "version": 3
      },
      "file_extension": ".py",
      "mimetype": "text/x-python",
      "name": "python",
      "nbconvert_exporter": "python",
      "pygments_lexer": "ipython3",
      "version": "3.11.3"
    },
    "colab": {
      "provenance": []
    }
  },
  "nbformat": 4,
  "nbformat_minor": 5
}